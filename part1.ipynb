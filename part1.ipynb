{
 "cells": [
  {
   "cell_type": "markdown",
   "metadata": {},
   "source": [
    "# Big Data Science -  Exercise 1 \n",
    "### Movie Industry Exploring  "
   ]
  },
  {
   "cell_type": "markdown",
   "metadata": {},
   "source": [
    "## Delivered by:\n",
    "- Or Segal - 204265557  \n",
    "- Omer Gross - 305470916\n",
    "- Omri Shushan - 201377165"
   ]
  },
  {
   "cell_type": "code",
   "execution_count": 1,
   "metadata": {},
   "outputs": [],
   "source": [
    "import pandas as pd\n",
    "import matplotlib.pyplot as plt\n",
    "%matplotlib inline\n",
    "import numpy as np\n",
    "import seaborn as sns"
   ]
  },
  {
   "cell_type": "code",
   "execution_count": 2,
   "metadata": {},
   "outputs": [
    {
     "name": "stdout",
     "output_type": "stream",
     "text": [
      "Populating the interactive namespace from numpy and matplotlib\n"
     ]
    }
   ],
   "source": [
    "# Inline plotting\n",
    "%pylab inline"
   ]
  },
  {
   "cell_type": "markdown",
   "metadata": {},
   "source": [
    "## Q.1"
   ]
  },
  {
   "cell_type": "code",
   "execution_count": 3,
   "metadata": {},
   "outputs": [],
   "source": [
    "df = pd.read_csv(\"movies_6K_clean.csv\",encoding='latin1')"
   ]
  },
  {
   "cell_type": "markdown",
   "metadata": {},
   "source": [
    "## Q.2"
   ]
  },
  {
   "cell_type": "code",
   "execution_count": 4,
   "metadata": {},
   "outputs": [
    {
     "name": "stdout",
     "output_type": "stream",
     "text": [
      "<class 'pandas.core.frame.DataFrame'>\n",
      "RangeIndex: 6820 entries, 0 to 6819\n",
      "Data columns (total 15 columns):\n",
      "budget      4638 non-null float64\n",
      "company     6820 non-null object\n",
      "country     6820 non-null object\n",
      "director    6820 non-null object\n",
      "genre       6820 non-null object\n",
      "gross       6820 non-null int64\n",
      "name        6820 non-null object\n",
      "rating      6820 non-null object\n",
      "released    6820 non-null object\n",
      "runtime     6820 non-null int64\n",
      "score       6820 non-null float64\n",
      "star        6820 non-null object\n",
      "votes       6820 non-null int64\n",
      "writer      6820 non-null object\n",
      "year        6820 non-null int64\n",
      "dtypes: float64(2), int64(4), object(9)\n",
      "memory usage: 799.3+ KB\n"
     ]
    },
    {
     "data": {
      "text/html": [
       "<div>\n",
       "<style scoped>\n",
       "    .dataframe tbody tr th:only-of-type {\n",
       "        vertical-align: middle;\n",
       "    }\n",
       "\n",
       "    .dataframe tbody tr th {\n",
       "        vertical-align: top;\n",
       "    }\n",
       "\n",
       "    .dataframe thead th {\n",
       "        text-align: right;\n",
       "    }\n",
       "</style>\n",
       "<table border=\"1\" class=\"dataframe\">\n",
       "  <thead>\n",
       "    <tr style=\"text-align: right;\">\n",
       "      <th></th>\n",
       "      <th>budget</th>\n",
       "      <th>company</th>\n",
       "      <th>country</th>\n",
       "      <th>director</th>\n",
       "      <th>genre</th>\n",
       "      <th>gross</th>\n",
       "      <th>name</th>\n",
       "      <th>rating</th>\n",
       "      <th>released</th>\n",
       "      <th>runtime</th>\n",
       "      <th>score</th>\n",
       "      <th>star</th>\n",
       "      <th>votes</th>\n",
       "      <th>writer</th>\n",
       "      <th>year</th>\n",
       "    </tr>\n",
       "  </thead>\n",
       "  <tbody>\n",
       "    <tr>\n",
       "      <td>0</td>\n",
       "      <td>6000.0</td>\n",
       "      <td>Next Wave Films</td>\n",
       "      <td>UK</td>\n",
       "      <td>Christopher Nolan</td>\n",
       "      <td>Crime</td>\n",
       "      <td>48482</td>\n",
       "      <td>Following</td>\n",
       "      <td>R</td>\n",
       "      <td>11/5/1999</td>\n",
       "      <td>69</td>\n",
       "      <td>7.6</td>\n",
       "      <td>Jeremy Theobald</td>\n",
       "      <td>72113</td>\n",
       "      <td>Christopher Nolan</td>\n",
       "      <td>1998</td>\n",
       "    </tr>\n",
       "    <tr>\n",
       "      <td>1</td>\n",
       "      <td>7000.0</td>\n",
       "      <td>ERBP</td>\n",
       "      <td>USA</td>\n",
       "      <td>Shane Carruth</td>\n",
       "      <td>Drama</td>\n",
       "      <td>424760</td>\n",
       "      <td>Primer</td>\n",
       "      <td>PG-13</td>\n",
       "      <td>5/27/2005</td>\n",
       "      <td>77</td>\n",
       "      <td>6.9</td>\n",
       "      <td>Shane Carruth</td>\n",
       "      <td>81468</td>\n",
       "      <td>Shane Carruth</td>\n",
       "      <td>2004</td>\n",
       "    </tr>\n",
       "    <tr>\n",
       "      <td>2</td>\n",
       "      <td>7000.0</td>\n",
       "      <td>Columbia Pictures Corporation</td>\n",
       "      <td>USA</td>\n",
       "      <td>Robert Rodriguez</td>\n",
       "      <td>Action</td>\n",
       "      <td>2040920</td>\n",
       "      <td>El Mariachi</td>\n",
       "      <td>R</td>\n",
       "      <td>2/26/1993</td>\n",
       "      <td>81</td>\n",
       "      <td>6.9</td>\n",
       "      <td>Carlos Gallardo</td>\n",
       "      <td>55226</td>\n",
       "      <td>Robert Rodriguez</td>\n",
       "      <td>1992</td>\n",
       "    </tr>\n",
       "    <tr>\n",
       "      <td>3</td>\n",
       "      <td>15000.0</td>\n",
       "      <td>Can I Watch</td>\n",
       "      <td>USA</td>\n",
       "      <td>Rose Troche</td>\n",
       "      <td>Drama</td>\n",
       "      <td>2408311</td>\n",
       "      <td>Go Fish</td>\n",
       "      <td>R</td>\n",
       "      <td>7/8/1994</td>\n",
       "      <td>83</td>\n",
       "      <td>5.6</td>\n",
       "      <td>V.S. Brodie</td>\n",
       "      <td>1742</td>\n",
       "      <td>Rose Troche</td>\n",
       "      <td>1994</td>\n",
       "    </tr>\n",
       "    <tr>\n",
       "      <td>4</td>\n",
       "      <td>15000.0</td>\n",
       "      <td>Solana Films</td>\n",
       "      <td>USA</td>\n",
       "      <td>Oren Peli</td>\n",
       "      <td>Horror</td>\n",
       "      <td>107918810</td>\n",
       "      <td>Paranormal Activity</td>\n",
       "      <td>R</td>\n",
       "      <td>10/16/2009</td>\n",
       "      <td>86</td>\n",
       "      <td>6.3</td>\n",
       "      <td>Katie Featherston</td>\n",
       "      <td>195668</td>\n",
       "      <td>Oren Peli</td>\n",
       "      <td>2007</td>\n",
       "    </tr>\n",
       "  </tbody>\n",
       "</table>\n",
       "</div>"
      ],
      "text/plain": [
       "    budget                        company country           director   genre  \\\n",
       "0   6000.0                Next Wave Films      UK  Christopher Nolan   Crime   \n",
       "1   7000.0                           ERBP     USA      Shane Carruth   Drama   \n",
       "2   7000.0  Columbia Pictures Corporation     USA   Robert Rodriguez  Action   \n",
       "3  15000.0                    Can I Watch     USA        Rose Troche   Drama   \n",
       "4  15000.0                   Solana Films     USA          Oren Peli  Horror   \n",
       "\n",
       "       gross                 name rating    released  runtime  score  \\\n",
       "0      48482            Following      R   11/5/1999       69    7.6   \n",
       "1     424760               Primer  PG-13   5/27/2005       77    6.9   \n",
       "2    2040920          El Mariachi      R   2/26/1993       81    6.9   \n",
       "3    2408311              Go Fish      R    7/8/1994       83    5.6   \n",
       "4  107918810  Paranormal Activity      R  10/16/2009       86    6.3   \n",
       "\n",
       "                star   votes             writer  year  \n",
       "0    Jeremy Theobald   72113  Christopher Nolan  1998  \n",
       "1      Shane Carruth   81468      Shane Carruth  2004  \n",
       "2    Carlos Gallardo   55226   Robert Rodriguez  1992  \n",
       "3        V.S. Brodie    1742        Rose Troche  1994  \n",
       "4  Katie Featherston  195668          Oren Peli  2007  "
      ]
     },
     "execution_count": 4,
     "metadata": {},
     "output_type": "execute_result"
    }
   ],
   "source": [
    "df.info()\n",
    "df.head()"
   ]
  },
  {
   "cell_type": "markdown",
   "metadata": {},
   "source": [
    "## Q.3"
   ]
  },
  {
   "cell_type": "code",
   "execution_count": 5,
   "metadata": {},
   "outputs": [
    {
     "data": {
      "text/html": [
       "<div>\n",
       "<style scoped>\n",
       "    .dataframe tbody tr th:only-of-type {\n",
       "        vertical-align: middle;\n",
       "    }\n",
       "\n",
       "    .dataframe tbody tr th {\n",
       "        vertical-align: top;\n",
       "    }\n",
       "\n",
       "    .dataframe thead th {\n",
       "        text-align: right;\n",
       "    }\n",
       "</style>\n",
       "<table border=\"1\" class=\"dataframe\">\n",
       "  <thead>\n",
       "    <tr style=\"text-align: right;\">\n",
       "      <th></th>\n",
       "      <th>budget</th>\n",
       "      <th>gross</th>\n",
       "      <th>runtime</th>\n",
       "      <th>score</th>\n",
       "      <th>votes</th>\n",
       "      <th>year</th>\n",
       "    </tr>\n",
       "  </thead>\n",
       "  <tbody>\n",
       "    <tr>\n",
       "      <td>count</td>\n",
       "      <td>4.638000e+03</td>\n",
       "      <td>6.820000e+03</td>\n",
       "      <td>6820.00000</td>\n",
       "      <td>6820.000000</td>\n",
       "      <td>6.820000e+03</td>\n",
       "      <td>6820.000000</td>\n",
       "    </tr>\n",
       "    <tr>\n",
       "      <td>mean</td>\n",
       "      <td>3.614560e+07</td>\n",
       "      <td>3.349783e+07</td>\n",
       "      <td>106.55132</td>\n",
       "      <td>6.374897</td>\n",
       "      <td>7.121952e+04</td>\n",
       "      <td>2001.000293</td>\n",
       "    </tr>\n",
       "    <tr>\n",
       "      <td>std</td>\n",
       "      <td>3.996947e+07</td>\n",
       "      <td>5.819760e+07</td>\n",
       "      <td>18.02818</td>\n",
       "      <td>1.003142</td>\n",
       "      <td>1.305176e+05</td>\n",
       "      <td>8.944501</td>\n",
       "    </tr>\n",
       "    <tr>\n",
       "      <td>min</td>\n",
       "      <td>6.000000e+03</td>\n",
       "      <td>7.000000e+01</td>\n",
       "      <td>50.00000</td>\n",
       "      <td>1.500000</td>\n",
       "      <td>2.700000e+01</td>\n",
       "      <td>1986.000000</td>\n",
       "    </tr>\n",
       "    <tr>\n",
       "      <td>25%</td>\n",
       "      <td>1.000000e+07</td>\n",
       "      <td>1.515839e+06</td>\n",
       "      <td>95.00000</td>\n",
       "      <td>5.800000</td>\n",
       "      <td>7.665250e+03</td>\n",
       "      <td>1993.000000</td>\n",
       "    </tr>\n",
       "    <tr>\n",
       "      <td>50%</td>\n",
       "      <td>2.300000e+07</td>\n",
       "      <td>1.213568e+07</td>\n",
       "      <td>102.00000</td>\n",
       "      <td>6.400000</td>\n",
       "      <td>2.589250e+04</td>\n",
       "      <td>2001.000000</td>\n",
       "    </tr>\n",
       "    <tr>\n",
       "      <td>75%</td>\n",
       "      <td>4.600000e+07</td>\n",
       "      <td>4.006534e+07</td>\n",
       "      <td>115.00000</td>\n",
       "      <td>7.100000</td>\n",
       "      <td>7.581225e+04</td>\n",
       "      <td>2009.000000</td>\n",
       "    </tr>\n",
       "    <tr>\n",
       "      <td>max</td>\n",
       "      <td>3.000000e+08</td>\n",
       "      <td>9.366622e+08</td>\n",
       "      <td>366.00000</td>\n",
       "      <td>9.300000</td>\n",
       "      <td>1.861666e+06</td>\n",
       "      <td>2016.000000</td>\n",
       "    </tr>\n",
       "  </tbody>\n",
       "</table>\n",
       "</div>"
      ],
      "text/plain": [
       "             budget         gross     runtime        score         votes  \\\n",
       "count  4.638000e+03  6.820000e+03  6820.00000  6820.000000  6.820000e+03   \n",
       "mean   3.614560e+07  3.349783e+07   106.55132     6.374897  7.121952e+04   \n",
       "std    3.996947e+07  5.819760e+07    18.02818     1.003142  1.305176e+05   \n",
       "min    6.000000e+03  7.000000e+01    50.00000     1.500000  2.700000e+01   \n",
       "25%    1.000000e+07  1.515839e+06    95.00000     5.800000  7.665250e+03   \n",
       "50%    2.300000e+07  1.213568e+07   102.00000     6.400000  2.589250e+04   \n",
       "75%    4.600000e+07  4.006534e+07   115.00000     7.100000  7.581225e+04   \n",
       "max    3.000000e+08  9.366622e+08   366.00000     9.300000  1.861666e+06   \n",
       "\n",
       "              year  \n",
       "count  6820.000000  \n",
       "mean   2001.000293  \n",
       "std       8.944501  \n",
       "min    1986.000000  \n",
       "25%    1993.000000  \n",
       "50%    2001.000000  \n",
       "75%    2009.000000  \n",
       "max    2016.000000  "
      ]
     },
     "execution_count": 5,
     "metadata": {},
     "output_type": "execute_result"
    }
   ],
   "source": [
    "df.describe()"
   ]
  },
  {
   "cell_type": "markdown",
   "metadata": {},
   "source": [
    "## Q.4\n",
    "### How many genres there is in the table? you can use the describe function for object types describe(include=np.object)"
   ]
  },
  {
   "cell_type": "code",
   "execution_count": 6,
   "metadata": {},
   "outputs": [
    {
     "data": {
      "text/plain": [
       "count       6820\n",
       "unique        17\n",
       "top       Comedy\n",
       "freq        2080\n",
       "Name: genre, dtype: object"
      ]
     },
     "execution_count": 6,
     "metadata": {},
     "output_type": "execute_result"
    }
   ],
   "source": [
    "g = pd.Series(df.genre)\n",
    "g.describe()"
   ]
  },
  {
   "cell_type": "markdown",
   "metadata": {},
   "source": [
    "### Answer: \n",
    "#### There are 17 unique genres."
   ]
  },
  {
   "cell_type": "markdown",
   "metadata": {},
   "source": [
    "### How many movies are from each genre in each county?"
   ]
  },
  {
   "cell_type": "code",
   "execution_count": 7,
   "metadata": {},
   "outputs": [
    {
     "data": {
      "text/html": [
       "<div>\n",
       "<style scoped>\n",
       "    .dataframe tbody tr th:only-of-type {\n",
       "        vertical-align: middle;\n",
       "    }\n",
       "\n",
       "    .dataframe tbody tr th {\n",
       "        vertical-align: top;\n",
       "    }\n",
       "\n",
       "    .dataframe thead th {\n",
       "        text-align: right;\n",
       "    }\n",
       "</style>\n",
       "<table border=\"1\" class=\"dataframe\">\n",
       "  <thead>\n",
       "    <tr style=\"text-align: right;\">\n",
       "      <th></th>\n",
       "      <th></th>\n",
       "      <th>name</th>\n",
       "    </tr>\n",
       "    <tr>\n",
       "      <th>genre</th>\n",
       "      <th>country</th>\n",
       "      <th></th>\n",
       "    </tr>\n",
       "  </thead>\n",
       "  <tbody>\n",
       "    <tr>\n",
       "      <td rowspan=\"5\" valign=\"top\">Action</td>\n",
       "      <td>Aruba</td>\n",
       "      <td>1</td>\n",
       "    </tr>\n",
       "    <tr>\n",
       "      <td>Australia</td>\n",
       "      <td>12</td>\n",
       "    </tr>\n",
       "    <tr>\n",
       "      <td>Austria</td>\n",
       "      <td>1</td>\n",
       "    </tr>\n",
       "    <tr>\n",
       "      <td>Belgium</td>\n",
       "      <td>1</td>\n",
       "    </tr>\n",
       "    <tr>\n",
       "      <td>Brazil</td>\n",
       "      <td>2</td>\n",
       "    </tr>\n",
       "    <tr>\n",
       "      <td>...</td>\n",
       "      <td>...</td>\n",
       "      <td>...</td>\n",
       "    </tr>\n",
       "    <tr>\n",
       "      <td rowspan=\"3\" valign=\"top\">Thriller</td>\n",
       "      <td>Australia</td>\n",
       "      <td>1</td>\n",
       "    </tr>\n",
       "    <tr>\n",
       "      <td>UK</td>\n",
       "      <td>4</td>\n",
       "    </tr>\n",
       "    <tr>\n",
       "      <td>USA</td>\n",
       "      <td>13</td>\n",
       "    </tr>\n",
       "    <tr>\n",
       "      <td>War</td>\n",
       "      <td>USA</td>\n",
       "      <td>2</td>\n",
       "    </tr>\n",
       "    <tr>\n",
       "      <td>Western</td>\n",
       "      <td>UK</td>\n",
       "      <td>2</td>\n",
       "    </tr>\n",
       "  </tbody>\n",
       "</table>\n",
       "<p>238 rows × 1 columns</p>\n",
       "</div>"
      ],
      "text/plain": [
       "                    name\n",
       "genre    country        \n",
       "Action   Aruba         1\n",
       "         Australia    12\n",
       "         Austria       1\n",
       "         Belgium       1\n",
       "         Brazil        2\n",
       "...                  ...\n",
       "Thriller Australia     1\n",
       "         UK            4\n",
       "         USA          13\n",
       "War      USA           2\n",
       "Western  UK            2\n",
       "\n",
       "[238 rows x 1 columns]"
      ]
     },
     "execution_count": 7,
     "metadata": {},
     "output_type": "execute_result"
    }
   ],
   "source": [
    "d = df.groupby(['genre','country']).count()\n",
    "pd.DataFrame(pd.Series(d['name']))\n"
   ]
  },
  {
   "cell_type": "code",
   "execution_count": null,
   "metadata": {},
   "outputs": [],
   "source": []
  },
  {
   "cell_type": "code",
   "execution_count": null,
   "metadata": {},
   "outputs": [],
   "source": []
  },
  {
   "cell_type": "markdown",
   "metadata": {},
   "source": [
    "### How many movies are from each genre in each year? Is there a trend?"
   ]
  },
  {
   "cell_type": "code",
   "execution_count": 8,
   "metadata": {},
   "outputs": [
    {
     "data": {
      "text/html": [
       "<div>\n",
       "<style scoped>\n",
       "    .dataframe tbody tr th:only-of-type {\n",
       "        vertical-align: middle;\n",
       "    }\n",
       "\n",
       "    .dataframe tbody tr th {\n",
       "        vertical-align: top;\n",
       "    }\n",
       "\n",
       "    .dataframe thead th {\n",
       "        text-align: right;\n",
       "    }\n",
       "</style>\n",
       "<table border=\"1\" class=\"dataframe\">\n",
       "  <thead>\n",
       "    <tr style=\"text-align: right;\">\n",
       "      <th></th>\n",
       "      <th></th>\n",
       "      <th>name</th>\n",
       "    </tr>\n",
       "    <tr>\n",
       "      <th>genre</th>\n",
       "      <th>year</th>\n",
       "      <th></th>\n",
       "    </tr>\n",
       "  </thead>\n",
       "  <tbody>\n",
       "    <tr>\n",
       "      <td rowspan=\"5\" valign=\"top\">Action</td>\n",
       "      <td>1986</td>\n",
       "      <td>49</td>\n",
       "    </tr>\n",
       "    <tr>\n",
       "      <td>1987</td>\n",
       "      <td>47</td>\n",
       "    </tr>\n",
       "    <tr>\n",
       "      <td>1988</td>\n",
       "      <td>35</td>\n",
       "    </tr>\n",
       "    <tr>\n",
       "      <td>1989</td>\n",
       "      <td>46</td>\n",
       "    </tr>\n",
       "    <tr>\n",
       "      <td>1990</td>\n",
       "      <td>46</td>\n",
       "    </tr>\n",
       "    <tr>\n",
       "      <td>...</td>\n",
       "      <td>...</td>\n",
       "      <td>...</td>\n",
       "    </tr>\n",
       "    <tr>\n",
       "      <td rowspan=\"2\" valign=\"top\">Thriller</td>\n",
       "      <td>2010</td>\n",
       "      <td>2</td>\n",
       "    </tr>\n",
       "    <tr>\n",
       "      <td>2015</td>\n",
       "      <td>1</td>\n",
       "    </tr>\n",
       "    <tr>\n",
       "      <td>War</td>\n",
       "      <td>1988</td>\n",
       "      <td>2</td>\n",
       "    </tr>\n",
       "    <tr>\n",
       "      <td rowspan=\"2\" valign=\"top\">Western</td>\n",
       "      <td>1993</td>\n",
       "      <td>1</td>\n",
       "    </tr>\n",
       "    <tr>\n",
       "      <td>2015</td>\n",
       "      <td>1</td>\n",
       "    </tr>\n",
       "  </tbody>\n",
       "</table>\n",
       "<p>342 rows × 1 columns</p>\n",
       "</div>"
      ],
      "text/plain": [
       "               name\n",
       "genre    year      \n",
       "Action   1986    49\n",
       "         1987    47\n",
       "         1988    35\n",
       "         1989    46\n",
       "         1990    46\n",
       "...             ...\n",
       "Thriller 2010     2\n",
       "         2015     1\n",
       "War      1988     2\n",
       "Western  1993     1\n",
       "         2015     1\n",
       "\n",
       "[342 rows x 1 columns]"
      ]
     },
     "execution_count": 8,
     "metadata": {},
     "output_type": "execute_result"
    }
   ],
   "source": [
    "d = df.groupby(['genre','year']).count()\n",
    "ns = pd.DataFrame(pd.Series(d['name']))\n",
    "ns"
   ]
  },
  {
   "cell_type": "markdown",
   "metadata": {},
   "source": [
    "### What is the average score for each genre for each year?"
   ]
  },
  {
   "cell_type": "code",
   "execution_count": 9,
   "metadata": {},
   "outputs": [
    {
     "data": {
      "text/html": [
       "<div>\n",
       "<style scoped>\n",
       "    .dataframe tbody tr th:only-of-type {\n",
       "        vertical-align: middle;\n",
       "    }\n",
       "\n",
       "    .dataframe tbody tr th {\n",
       "        vertical-align: top;\n",
       "    }\n",
       "\n",
       "    .dataframe thead th {\n",
       "        text-align: right;\n",
       "    }\n",
       "</style>\n",
       "<table border=\"1\" class=\"dataframe\">\n",
       "  <thead>\n",
       "    <tr style=\"text-align: right;\">\n",
       "      <th></th>\n",
       "      <th></th>\n",
       "      <th>score</th>\n",
       "    </tr>\n",
       "    <tr>\n",
       "      <th>genre</th>\n",
       "      <th>year</th>\n",
       "      <th></th>\n",
       "    </tr>\n",
       "  </thead>\n",
       "  <tbody>\n",
       "    <tr>\n",
       "      <td rowspan=\"5\" valign=\"top\">Action</td>\n",
       "      <td>1986</td>\n",
       "      <td>5.461224</td>\n",
       "    </tr>\n",
       "    <tr>\n",
       "      <td>1987</td>\n",
       "      <td>5.814894</td>\n",
       "    </tr>\n",
       "    <tr>\n",
       "      <td>1988</td>\n",
       "      <td>6.054286</td>\n",
       "    </tr>\n",
       "    <tr>\n",
       "      <td>1989</td>\n",
       "      <td>5.908696</td>\n",
       "    </tr>\n",
       "    <tr>\n",
       "      <td>1990</td>\n",
       "      <td>5.930435</td>\n",
       "    </tr>\n",
       "    <tr>\n",
       "      <td>...</td>\n",
       "      <td>...</td>\n",
       "      <td>...</td>\n",
       "    </tr>\n",
       "    <tr>\n",
       "      <td rowspan=\"2\" valign=\"top\">Thriller</td>\n",
       "      <td>2010</td>\n",
       "      <td>6.300000</td>\n",
       "    </tr>\n",
       "    <tr>\n",
       "      <td>2015</td>\n",
       "      <td>5.200000</td>\n",
       "    </tr>\n",
       "    <tr>\n",
       "      <td>War</td>\n",
       "      <td>1988</td>\n",
       "      <td>6.400000</td>\n",
       "    </tr>\n",
       "    <tr>\n",
       "      <td rowspan=\"2\" valign=\"top\">Western</td>\n",
       "      <td>1993</td>\n",
       "      <td>5.500000</td>\n",
       "    </tr>\n",
       "    <tr>\n",
       "      <td>2015</td>\n",
       "      <td>6.900000</td>\n",
       "    </tr>\n",
       "  </tbody>\n",
       "</table>\n",
       "<p>342 rows × 1 columns</p>\n",
       "</div>"
      ],
      "text/plain": [
       "                  score\n",
       "genre    year          \n",
       "Action   1986  5.461224\n",
       "         1987  5.814894\n",
       "         1988  6.054286\n",
       "         1989  5.908696\n",
       "         1990  5.930435\n",
       "...                 ...\n",
       "Thriller 2010  6.300000\n",
       "         2015  5.200000\n",
       "War      1988  6.400000\n",
       "Western  1993  5.500000\n",
       "         2015  6.900000\n",
       "\n",
       "[342 rows x 1 columns]"
      ]
     },
     "execution_count": 9,
     "metadata": {},
     "output_type": "execute_result"
    }
   ],
   "source": [
    "p = df.groupby(['genre','year']).mean()\n",
    "ps = pd.DataFrame(pd.Series(p['score']))\n",
    "ps"
   ]
  },
  {
   "cell_type": "markdown",
   "metadata": {},
   "source": [
    "### What is the average gross revenue for each genre for each year?"
   ]
  },
  {
   "cell_type": "code",
   "execution_count": 10,
   "metadata": {},
   "outputs": [
    {
     "data": {
      "text/html": [
       "<div>\n",
       "<style scoped>\n",
       "    .dataframe tbody tr th:only-of-type {\n",
       "        vertical-align: middle;\n",
       "    }\n",
       "\n",
       "    .dataframe tbody tr th {\n",
       "        vertical-align: top;\n",
       "    }\n",
       "\n",
       "    .dataframe thead th {\n",
       "        text-align: right;\n",
       "    }\n",
       "</style>\n",
       "<table border=\"1\" class=\"dataframe\">\n",
       "  <thead>\n",
       "    <tr style=\"text-align: right;\">\n",
       "      <th></th>\n",
       "      <th></th>\n",
       "      <th>gross</th>\n",
       "    </tr>\n",
       "    <tr>\n",
       "      <th>genre</th>\n",
       "      <th>year</th>\n",
       "      <th></th>\n",
       "    </tr>\n",
       "  </thead>\n",
       "  <tbody>\n",
       "    <tr>\n",
       "      <td rowspan=\"5\" valign=\"top\">Action</td>\n",
       "      <td>1986</td>\n",
       "      <td>1.719653e+07</td>\n",
       "    </tr>\n",
       "    <tr>\n",
       "      <td>1987</td>\n",
       "      <td>1.756258e+07</td>\n",
       "    </tr>\n",
       "    <tr>\n",
       "      <td>1988</td>\n",
       "      <td>2.078239e+07</td>\n",
       "    </tr>\n",
       "    <tr>\n",
       "      <td>1989</td>\n",
       "      <td>2.718059e+07</td>\n",
       "    </tr>\n",
       "    <tr>\n",
       "      <td>1990</td>\n",
       "      <td>3.019161e+07</td>\n",
       "    </tr>\n",
       "    <tr>\n",
       "      <td>...</td>\n",
       "      <td>...</td>\n",
       "      <td>...</td>\n",
       "    </tr>\n",
       "    <tr>\n",
       "      <td rowspan=\"2\" valign=\"top\">Thriller</td>\n",
       "      <td>2010</td>\n",
       "      <td>1.321750e+05</td>\n",
       "    </tr>\n",
       "    <tr>\n",
       "      <td>2015</td>\n",
       "      <td>1.645800e+04</td>\n",
       "    </tr>\n",
       "    <tr>\n",
       "      <td>War</td>\n",
       "      <td>1988</td>\n",
       "      <td>7.548875e+05</td>\n",
       "    </tr>\n",
       "    <tr>\n",
       "      <td rowspan=\"2\" valign=\"top\">Western</td>\n",
       "      <td>1993</td>\n",
       "      <td>1.829000e+07</td>\n",
       "    </tr>\n",
       "    <tr>\n",
       "      <td>2015</td>\n",
       "      <td>2.290940e+05</td>\n",
       "    </tr>\n",
       "  </tbody>\n",
       "</table>\n",
       "<p>342 rows × 1 columns</p>\n",
       "</div>"
      ],
      "text/plain": [
       "                      gross\n",
       "genre    year              \n",
       "Action   1986  1.719653e+07\n",
       "         1987  1.756258e+07\n",
       "         1988  2.078239e+07\n",
       "         1989  2.718059e+07\n",
       "         1990  3.019161e+07\n",
       "...                     ...\n",
       "Thriller 2010  1.321750e+05\n",
       "         2015  1.645800e+04\n",
       "War      1988  7.548875e+05\n",
       "Western  1993  1.829000e+07\n",
       "         2015  2.290940e+05\n",
       "\n",
       "[342 rows x 1 columns]"
      ]
     },
     "execution_count": 10,
     "metadata": {},
     "output_type": "execute_result"
    }
   ],
   "source": [
    "g = df.groupby(['genre','year']).mean()\n",
    "gs = pd.DataFrame(pd.Series(g['gross']))\n",
    "gs"
   ]
  },
  {
   "cell_type": "markdown",
   "metadata": {},
   "source": [
    "### What is the most frequesnt star and director from the movie file?"
   ]
  },
  {
   "cell_type": "code",
   "execution_count": 11,
   "metadata": {},
   "outputs": [
    {
     "data": {
      "text/plain": [
       "Nicolas Cage    42\n",
       "Name: star, dtype: int64"
      ]
     },
     "execution_count": 11,
     "metadata": {},
     "output_type": "execute_result"
    }
   ],
   "source": [
    "star = df['star'].value_counts()[:1]\n",
    "star"
   ]
  },
  {
   "cell_type": "code",
   "execution_count": 12,
   "metadata": {},
   "outputs": [
    {
     "data": {
      "text/plain": [
       "Woody Allen    33\n",
       "Name: director, dtype: int64"
      ]
     },
     "execution_count": 12,
     "metadata": {},
     "output_type": "execute_result"
    }
   ],
   "source": [
    "direc = df['director'].value_counts()[:1]\n",
    "direc"
   ]
  },
  {
   "cell_type": "markdown",
   "metadata": {},
   "source": [
    "### What is the average gross from it's movies? To answer that create additional data frame."
   ]
  },
  {
   "cell_type": "code",
   "execution_count": 13,
   "metadata": {},
   "outputs": [
    {
     "data": {
      "text/html": [
       "<div>\n",
       "<style scoped>\n",
       "    .dataframe tbody tr th:only-of-type {\n",
       "        vertical-align: middle;\n",
       "    }\n",
       "\n",
       "    .dataframe tbody tr th {\n",
       "        vertical-align: top;\n",
       "    }\n",
       "\n",
       "    .dataframe thead th {\n",
       "        text-align: right;\n",
       "    }\n",
       "</style>\n",
       "<table border=\"1\" class=\"dataframe\">\n",
       "  <thead>\n",
       "    <tr style=\"text-align: right;\">\n",
       "      <th></th>\n",
       "      <th>star</th>\n",
       "      <th>num_movies</th>\n",
       "    </tr>\n",
       "  </thead>\n",
       "  <tbody>\n",
       "    <tr>\n",
       "      <td>0</td>\n",
       "      <td>Nicolas Cage</td>\n",
       "      <td>42</td>\n",
       "    </tr>\n",
       "    <tr>\n",
       "      <td>1</td>\n",
       "      <td>Woody Allen</td>\n",
       "      <td>33</td>\n",
       "    </tr>\n",
       "  </tbody>\n",
       "</table>\n",
       "</div>"
      ],
      "text/plain": [
       "           star  num_movies\n",
       "0  Nicolas Cage          42\n",
       "1   Woody Allen          33"
      ]
     },
     "execution_count": 13,
     "metadata": {},
     "output_type": "execute_result"
    }
   ],
   "source": [
    "s ={'star':['Nicolas Cage','Woody Allen'], 'num_movies':[42,33]}\n",
    "dff = pd.DataFrame(data=s)\n",
    "dff"
   ]
  },
  {
   "cell_type": "code",
   "execution_count": 14,
   "metadata": {},
   "outputs": [
    {
     "name": "stderr",
     "output_type": "stream",
     "text": [
      "C:\\Users\\Omri\\Anaconda3\\lib\\site-packages\\numpy\\lib\\type_check.py:547: FutureWarning: `item` has been deprecated and will be removed in a future version\n",
      "  return a.item()\n"
     ]
    },
    {
     "data": {
      "text/plain": [
       "[43798693.26190476, 12205720.909090908]"
      ]
     },
     "execution_count": 14,
     "metadata": {},
     "output_type": "execute_result"
    }
   ],
   "source": [
    "pp = df.loc[df['star'] == 'Nicolas Cage',['star','name','gross']]\n",
    "pf = df.loc[df['director'] == 'Woody Allen',['director','name','gross']]\n",
    "grosses = pp.mean().tolist()\n",
    "grosses.append(np.asscalar(pf.mean()))\n",
    "grosses"
   ]
  },
  {
   "cell_type": "code",
   "execution_count": 15,
   "metadata": {},
   "outputs": [
    {
     "data": {
      "text/html": [
       "<div>\n",
       "<style scoped>\n",
       "    .dataframe tbody tr th:only-of-type {\n",
       "        vertical-align: middle;\n",
       "    }\n",
       "\n",
       "    .dataframe tbody tr th {\n",
       "        vertical-align: top;\n",
       "    }\n",
       "\n",
       "    .dataframe thead th {\n",
       "        text-align: right;\n",
       "    }\n",
       "</style>\n",
       "<table border=\"1\" class=\"dataframe\">\n",
       "  <thead>\n",
       "    <tr style=\"text-align: right;\">\n",
       "      <th></th>\n",
       "      <th>star</th>\n",
       "      <th>num_movies</th>\n",
       "      <th>avg_movies_gross</th>\n",
       "    </tr>\n",
       "  </thead>\n",
       "  <tbody>\n",
       "    <tr>\n",
       "      <td>0</td>\n",
       "      <td>Nicolas Cage</td>\n",
       "      <td>42</td>\n",
       "      <td>4.379869e+07</td>\n",
       "    </tr>\n",
       "    <tr>\n",
       "      <td>1</td>\n",
       "      <td>Woody Allen</td>\n",
       "      <td>33</td>\n",
       "      <td>1.220572e+07</td>\n",
       "    </tr>\n",
       "  </tbody>\n",
       "</table>\n",
       "</div>"
      ],
      "text/plain": [
       "           star  num_movies  avg_movies_gross\n",
       "0  Nicolas Cage          42      4.379869e+07\n",
       "1   Woody Allen          33      1.220572e+07"
      ]
     },
     "execution_count": 15,
     "metadata": {},
     "output_type": "execute_result"
    }
   ],
   "source": [
    "dff.insert(loc=2, column='avg_movies_gross',value=grosses)\n",
    "dff"
   ]
  },
  {
   "cell_type": "markdown",
   "metadata": {},
   "source": [
    "### Q.5. Boxplots - Visualizations"
   ]
  },
  {
   "cell_type": "code",
   "execution_count": 16,
   "metadata": {},
   "outputs": [
    {
     "data": {
      "text/plain": [
       "Text(0, 0.5, 'Nicolas Cage movie revenue')"
      ]
     },
     "execution_count": 16,
     "metadata": {},
     "output_type": "execute_result"
    },
    {
     "data": {
      "image/png": "[encoded data removed]",
      "text/plain": [
       "<Figure size 432x288 with 1 Axes>"
      ]
     },
     "metadata": {
      "needs_background": "light"
     },
     "output_type": "display_data"
    }
   ],
   "source": [
    "plt.boxplot(pp.gross ,meanline=True ,vert=True ,patch_artist=True,autorange=True)\n",
    "plt.ylabel(\"Nicolas Cage movie revenue\") "
   ]
  },
  {
   "cell_type": "code",
   "execution_count": 17,
   "metadata": {},
   "outputs": [
    {
     "data": {
      "text/html": [
       "<div>\n",
       "<style scoped>\n",
       "    .dataframe tbody tr th:only-of-type {\n",
       "        vertical-align: middle;\n",
       "    }\n",
       "\n",
       "    .dataframe tbody tr th {\n",
       "        vertical-align: top;\n",
       "    }\n",
       "\n",
       "    .dataframe thead th {\n",
       "        text-align: right;\n",
       "    }\n",
       "</style>\n",
       "<table border=\"1\" class=\"dataframe\">\n",
       "  <thead>\n",
       "    <tr style=\"text-align: right;\">\n",
       "      <th></th>\n",
       "      <th>gross</th>\n",
       "    </tr>\n",
       "  </thead>\n",
       "  <tbody>\n",
       "    <tr>\n",
       "      <td>count</td>\n",
       "      <td>4.200000e+01</td>\n",
       "    </tr>\n",
       "    <tr>\n",
       "      <td>mean</td>\n",
       "      <td>4.379869e+07</td>\n",
       "    </tr>\n",
       "    <tr>\n",
       "      <td>std</td>\n",
       "      <td>5.224437e+07</td>\n",
       "    </tr>\n",
       "    <tr>\n",
       "      <td>min</td>\n",
       "      <td>1.681600e+04</td>\n",
       "    </tr>\n",
       "    <tr>\n",
       "      <td>25%</td>\n",
       "      <td>1.115078e+07</td>\n",
       "    </tr>\n",
       "    <tr>\n",
       "      <td>50%</td>\n",
       "      <td>2.389658e+07</td>\n",
       "    </tr>\n",
       "    <tr>\n",
       "      <td>75%</td>\n",
       "      <td>6.125959e+07</td>\n",
       "    </tr>\n",
       "    <tr>\n",
       "      <td>max</td>\n",
       "      <td>2.199641e+08</td>\n",
       "    </tr>\n",
       "  </tbody>\n",
       "</table>\n",
       "</div>"
      ],
      "text/plain": [
       "              gross\n",
       "count  4.200000e+01\n",
       "mean   4.379869e+07\n",
       "std    5.224437e+07\n",
       "min    1.681600e+04\n",
       "25%    1.115078e+07\n",
       "50%    2.389658e+07\n",
       "75%    6.125959e+07\n",
       "max    2.199641e+08"
      ]
     },
     "execution_count": 17,
     "metadata": {},
     "output_type": "execute_result"
    }
   ],
   "source": [
    "pp.describe()"
   ]
  },
  {
   "cell_type": "code",
   "execution_count": 18,
   "metadata": {},
   "outputs": [
    {
     "data": {
      "text/plain": [
       "Text(0, 0.5, 'Woody Allen movie revenue')"
      ]
     },
     "execution_count": 18,
     "metadata": {},
     "output_type": "execute_result"
    },
    {
     "data": {
      "image/png": "[encoded data removed]",
      "text/plain": [
       "<Figure size 432x288 with 1 Axes>"
      ]
     },
     "metadata": {
      "needs_background": "light"
     },
     "output_type": "display_data"
    }
   ],
   "source": [
    "plt.boxplot(pf.gross ,meanline=True ,vert=True ,patch_artist=True ,autorange=True)\n",
    "plt.ylabel(\"Woody Allen movie revenue\") "
   ]
  },
  {
   "cell_type": "code",
   "execution_count": 19,
   "metadata": {},
   "outputs": [
    {
     "data": {
      "text/html": [
       "<div>\n",
       "<style scoped>\n",
       "    .dataframe tbody tr th:only-of-type {\n",
       "        vertical-align: middle;\n",
       "    }\n",
       "\n",
       "    .dataframe tbody tr th {\n",
       "        vertical-align: top;\n",
       "    }\n",
       "\n",
       "    .dataframe thead th {\n",
       "        text-align: right;\n",
       "    }\n",
       "</style>\n",
       "<table border=\"1\" class=\"dataframe\">\n",
       "  <thead>\n",
       "    <tr style=\"text-align: right;\">\n",
       "      <th></th>\n",
       "      <th>gross</th>\n",
       "    </tr>\n",
       "  </thead>\n",
       "  <tbody>\n",
       "    <tr>\n",
       "      <td>count</td>\n",
       "      <td>3.300000e+01</td>\n",
       "    </tr>\n",
       "    <tr>\n",
       "      <td>mean</td>\n",
       "      <td>1.220572e+07</td>\n",
       "    </tr>\n",
       "    <tr>\n",
       "      <td>std</td>\n",
       "      <td>1.202207e+07</td>\n",
       "    </tr>\n",
       "    <tr>\n",
       "      <td>min</td>\n",
       "      <td>4.864340e+05</td>\n",
       "    </tr>\n",
       "    <tr>\n",
       "      <td>25%</td>\n",
       "      <td>4.196621e+06</td>\n",
       "    </tr>\n",
       "    <tr>\n",
       "      <td>50%</td>\n",
       "      <td>1.050694e+07</td>\n",
       "    </tr>\n",
       "    <tr>\n",
       "      <td>75%</td>\n",
       "      <td>1.479278e+07</td>\n",
       "    </tr>\n",
       "    <tr>\n",
       "      <td>max</td>\n",
       "      <td>5.681666e+07</td>\n",
       "    </tr>\n",
       "  </tbody>\n",
       "</table>\n",
       "</div>"
      ],
      "text/plain": [
       "              gross\n",
       "count  3.300000e+01\n",
       "mean   1.220572e+07\n",
       "std    1.202207e+07\n",
       "min    4.864340e+05\n",
       "25%    4.196621e+06\n",
       "50%    1.050694e+07\n",
       "75%    1.479278e+07\n",
       "max    5.681666e+07"
      ]
     },
     "execution_count": 19,
     "metadata": {},
     "output_type": "execute_result"
    }
   ],
   "source": [
    "pf.describe()"
   ]
  },
  {
   "cell_type": "markdown",
   "metadata": {},
   "source": [
    "### Q.6  the features"
   ]
  },
  {
   "cell_type": "code",
   "execution_count": 20,
   "metadata": {},
   "outputs": [
    {
     "data": {
      "text/html": [
       "<div>\n",
       "<style scoped>\n",
       "    .dataframe tbody tr th:only-of-type {\n",
       "        vertical-align: middle;\n",
       "    }\n",
       "\n",
       "    .dataframe tbody tr th {\n",
       "        vertical-align: top;\n",
       "    }\n",
       "\n",
       "    .dataframe thead th {\n",
       "        text-align: right;\n",
       "    }\n",
       "</style>\n",
       "<table border=\"1\" class=\"dataframe\">\n",
       "  <thead>\n",
       "    <tr style=\"text-align: right;\">\n",
       "      <th></th>\n",
       "      <th>budget</th>\n",
       "      <th>gross</th>\n",
       "      <th>runtime</th>\n",
       "      <th>score</th>\n",
       "      <th>votes</th>\n",
       "      <th>year</th>\n",
       "    </tr>\n",
       "  </thead>\n",
       "  <tbody>\n",
       "    <tr>\n",
       "      <td>count</td>\n",
       "      <td>4.638000e+03</td>\n",
       "      <td>6.820000e+03</td>\n",
       "      <td>6820.00000</td>\n",
       "      <td>6820.000000</td>\n",
       "      <td>6.820000e+03</td>\n",
       "      <td>6820.000000</td>\n",
       "    </tr>\n",
       "    <tr>\n",
       "      <td>mean</td>\n",
       "      <td>3.614560e+07</td>\n",
       "      <td>3.349783e+07</td>\n",
       "      <td>106.55132</td>\n",
       "      <td>6.374897</td>\n",
       "      <td>7.121952e+04</td>\n",
       "      <td>2001.000293</td>\n",
       "    </tr>\n",
       "    <tr>\n",
       "      <td>std</td>\n",
       "      <td>3.996947e+07</td>\n",
       "      <td>5.819760e+07</td>\n",
       "      <td>18.02818</td>\n",
       "      <td>1.003142</td>\n",
       "      <td>1.305176e+05</td>\n",
       "      <td>8.944501</td>\n",
       "    </tr>\n",
       "    <tr>\n",
       "      <td>min</td>\n",
       "      <td>6.000000e+03</td>\n",
       "      <td>7.000000e+01</td>\n",
       "      <td>50.00000</td>\n",
       "      <td>1.500000</td>\n",
       "      <td>2.700000e+01</td>\n",
       "      <td>1986.000000</td>\n",
       "    </tr>\n",
       "    <tr>\n",
       "      <td>25%</td>\n",
       "      <td>1.000000e+07</td>\n",
       "      <td>1.515839e+06</td>\n",
       "      <td>95.00000</td>\n",
       "      <td>5.800000</td>\n",
       "      <td>7.665250e+03</td>\n",
       "      <td>1993.000000</td>\n",
       "    </tr>\n",
       "    <tr>\n",
       "      <td>50%</td>\n",
       "      <td>2.300000e+07</td>\n",
       "      <td>1.213568e+07</td>\n",
       "      <td>102.00000</td>\n",
       "      <td>6.400000</td>\n",
       "      <td>2.589250e+04</td>\n",
       "      <td>2001.000000</td>\n",
       "    </tr>\n",
       "    <tr>\n",
       "      <td>75%</td>\n",
       "      <td>4.600000e+07</td>\n",
       "      <td>4.006534e+07</td>\n",
       "      <td>115.00000</td>\n",
       "      <td>7.100000</td>\n",
       "      <td>7.581225e+04</td>\n",
       "      <td>2009.000000</td>\n",
       "    </tr>\n",
       "    <tr>\n",
       "      <td>max</td>\n",
       "      <td>3.000000e+08</td>\n",
       "      <td>9.366622e+08</td>\n",
       "      <td>366.00000</td>\n",
       "      <td>9.300000</td>\n",
       "      <td>1.861666e+06</td>\n",
       "      <td>2016.000000</td>\n",
       "    </tr>\n",
       "  </tbody>\n",
       "</table>\n",
       "</div>"
      ],
      "text/plain": [
       "             budget         gross     runtime        score         votes  \\\n",
       "count  4.638000e+03  6.820000e+03  6820.00000  6820.000000  6.820000e+03   \n",
       "mean   3.614560e+07  3.349783e+07   106.55132     6.374897  7.121952e+04   \n",
       "std    3.996947e+07  5.819760e+07    18.02818     1.003142  1.305176e+05   \n",
       "min    6.000000e+03  7.000000e+01    50.00000     1.500000  2.700000e+01   \n",
       "25%    1.000000e+07  1.515839e+06    95.00000     5.800000  7.665250e+03   \n",
       "50%    2.300000e+07  1.213568e+07   102.00000     6.400000  2.589250e+04   \n",
       "75%    4.600000e+07  4.006534e+07   115.00000     7.100000  7.581225e+04   \n",
       "max    3.000000e+08  9.366622e+08   366.00000     9.300000  1.861666e+06   \n",
       "\n",
       "              year  \n",
       "count  6820.000000  \n",
       "mean   2001.000293  \n",
       "std       8.944501  \n",
       "min    1986.000000  \n",
       "25%    1993.000000  \n",
       "50%    2001.000000  \n",
       "75%    2009.000000  \n",
       "max    2016.000000  "
      ]
     },
     "execution_count": 20,
     "metadata": {},
     "output_type": "execute_result"
    }
   ],
   "source": [
    "df.describe()"
   ]
  },
  {
   "cell_type": "markdown",
   "metadata": {},
   "source": [
    "### Q.7.a.1"
   ]
  },
  {
   "cell_type": "code",
   "execution_count": 21,
   "metadata": {},
   "outputs": [
    {
     "data": {
      "text/plain": [
       "Text(0, 0.5, 'gross')"
      ]
     },
     "execution_count": 21,
     "metadata": {},
     "output_type": "execute_result"
    },
    {
     "data": {
      "image/png": "[encoded data removed]",
      "text/plain": [
       "<Figure size 612x612 with 1 Axes>"
      ]
     },
     "metadata": {
      "needs_background": "light"
     },
     "output_type": "display_data"
    }
   ],
   "source": [
    "plt.figure(figsize=[8.5,8.5])\n",
    "plt.boxplot(df.gross ,meanline=True ,vert=True ,patch_artist=True ,autorange=False)\n",
    "plt.ylabel('gross')"
   ]
  },
  {
   "cell_type": "markdown",
   "metadata": {},
   "source": [
    "### Q.7.a.2 Answer:\n",
    "#### The disturbiution is non-symmetric, there is a lot of outliners in the top.\n",
    "#### most of the movies (interquartile range) revenue is between: 1.515839e+06 AND 4.006534e+07"
   ]
  },
  {
   "cell_type": "markdown",
   "metadata": {},
   "source": [
    "### Q.7.a.3."
   ]
  },
  {
   "cell_type": "code",
   "execution_count": 22,
   "metadata": {},
   "outputs": [
    {
     "data": {
      "text/plain": [
       "Text(0, 0.5, 'gross revenue')"
      ]
     },
     "execution_count": 22,
     "metadata": {},
     "output_type": "execute_result"
    },
    {
     "data": {
      "image/png": "[encoded data removed]",
      "text/plain": [
       "<Figure size 1080x792 with 1 Axes>"
      ]
     },
     "metadata": {
      "needs_background": "light"
     },
     "output_type": "display_data"
    }
   ],
   "source": [
    "fig, ax = plt.subplots(figsize=(15,11))\n",
    "df.boxplot(column=['gross'] ,by='year' ,meanline=True ,vert=True ,patch_artist=True ,autorange=False, ax=ax)\n",
    "plt.ylabel('gross revenue')"
   ]
  },
  {
   "cell_type": "markdown",
   "metadata": {},
   "source": [
    "### The revenue movie raises over the years"
   ]
  },
  {
   "cell_type": "markdown",
   "metadata": {},
   "source": [
    "### Q.7.a.4"
   ]
  },
  {
   "cell_type": "code",
   "execution_count": 23,
   "metadata": {},
   "outputs": [
    {
     "data": {
      "text/plain": [
       "Text(0, 0.5, 'gross revenue')"
      ]
     },
     "execution_count": 23,
     "metadata": {},
     "output_type": "execute_result"
    },
    {
     "data": {
      "image/png": "[encoded data removed]",
      "text/plain": [
       "<Figure size 1080x792 with 1 Axes>"
      ]
     },
     "metadata": {
      "needs_background": "light"
     },
     "output_type": "display_data"
    }
   ],
   "source": [
    "fig, ax = plt.subplots(figsize=(15,11))\n",
    "df.boxplot(column=['gross'] ,by='genre' ,meanline=True ,vert=True ,patch_artist=True ,autorange=False, ax=ax)\n",
    "plt.ylabel('gross revenue')"
   ]
  },
  {
   "cell_type": "markdown",
   "metadata": {},
   "source": [
    "### Q.7.b - histogram"
   ]
  },
  {
   "cell_type": "markdown",
   "metadata": {},
   "source": [
    "### Q.7.b.2."
   ]
  },
  {
   "cell_type": "code",
   "execution_count": 24,
   "metadata": {},
   "outputs": [
    {
     "data": {
      "text/plain": [
       "(array([ 0.,  2.,  4.,  6.,  8., 10., 12., 14., 16., 18.]),\n",
       " <a list of 10 Text yticklabel objects>)"
      ]
     },
     "execution_count": 24,
     "metadata": {},
     "output_type": "execute_result"
    },
    {
     "data": {
      "image/png": "[encoded data removed]",
      "text/plain": [
       "<Figure size 432x288 with 1 Axes>"
      ]
     },
     "metadata": {
      "needs_background": "light"
     },
     "output_type": "display_data"
    }
   ],
   "source": [
    "top100 = df.nlargest(100, 'gross')\n",
    "plt.hist(top100['gross'],color='b',edgecolor='black', linewidth=1.2, bins=40)\n",
    "plt.xlabel(\"\", fontsize=12)  \n",
    "plt.ylabel(\"gross\", fontsize=12,rotation=0)\n",
    "plt.xticks(fontsize=12)  \n",
    "plt.yticks(fontsize=12)"
   ]
  },
  {
   "cell_type": "code",
   "execution_count": 25,
   "metadata": {},
   "outputs": [
    {
     "data": {
      "text/plain": [
       "(array([0., 1., 2., 3., 4., 5., 6., 7., 8., 9.]),\n",
       " <a list of 10 Text yticklabel objects>)"
      ]
     },
     "execution_count": 25,
     "metadata": {},
     "output_type": "execute_result"
    },
    {
     "data": {
      "image/png": "[encoded data removed]",
      "text/plain": [
       "<Figure size 432x288 with 1 Axes>"
      ]
     },
     "metadata": {
      "needs_background": "light"
     },
     "output_type": "display_data"
    }
   ],
   "source": [
    "top20 = df.nlargest(20, 'gross')\n",
    "plt.hist(top20['gross'],color='b',edgecolor='black', linewidth=1.2, bins=20)\n",
    "plt.xlabel(\"\", fontsize=12)  \n",
    "plt.ylabel(\"gross\", fontsize=12,rotation=0)\n",
    "plt.xticks(fontsize=12)  \n",
    "plt.yticks(fontsize=12)"
   ]
  },
  {
   "cell_type": "markdown",
   "metadata": {},
   "source": [
    "### Q.7.b.3. "
   ]
  },
  {
   "cell_type": "code",
   "execution_count": 26,
   "metadata": {},
   "outputs": [
    {
     "data": {
      "text/plain": [
       "count    6.820000e+03\n",
       "mean     3.349783e+07\n",
       "std      5.819760e+07\n",
       "min      7.000000e+01\n",
       "25%      1.515839e+06\n",
       "50%      1.213568e+07\n",
       "75%      4.006534e+07\n",
       "max      9.366622e+08\n",
       "Name: gross, dtype: float64"
      ]
     },
     "execution_count": 26,
     "metadata": {},
     "output_type": "execute_result"
    }
   ],
   "source": [
    "revenue = df['gross']\n",
    "revenue.describe()"
   ]
  },
  {
   "cell_type": "markdown",
   "metadata": {},
   "source": [
    "#### The most common range is between 25%  to 75%"
   ]
  },
  {
   "cell_type": "code",
   "execution_count": 27,
   "metadata": {},
   "outputs": [
    {
     "data": {
      "text/plain": [
       "38549501.5"
      ]
     },
     "execution_count": 27,
     "metadata": {},
     "output_type": "execute_result"
    }
   ],
   "source": [
    "q1 = df['gross'].quantile(.25)\n",
    "q3 = df['gross'].quantile(.75)\n",
    "iqr = q3-q1\n",
    "iqr"
   ]
  },
  {
   "cell_type": "markdown",
   "metadata": {},
   "source": [
    "### Q.7.b.4 \n",
    " ### gross revenue over 500M USD"
   ]
  },
  {
   "cell_type": "code",
   "execution_count": 28,
   "metadata": {},
   "outputs": [
    {
     "data": {
      "text/plain": [
       "7"
      ]
     },
     "execution_count": 28,
     "metadata": {},
     "output_type": "execute_result"
    }
   ],
   "source": [
    "c = df.loc[df['gross'] > 500000000]['gross'].count()\n",
    "c"
   ]
  },
  {
   "cell_type": "markdown",
   "metadata": {},
   "source": [
    "### Q.7.b.5"
   ]
  },
  {
   "cell_type": "code",
   "execution_count": 29,
   "metadata": {},
   "outputs": [
    {
     "data": {
      "text/html": [
       "<div>\n",
       "<style scoped>\n",
       "    .dataframe tbody tr th:only-of-type {\n",
       "        vertical-align: middle;\n",
       "    }\n",
       "\n",
       "    .dataframe tbody tr th {\n",
       "        vertical-align: top;\n",
       "    }\n",
       "\n",
       "    .dataframe thead th {\n",
       "        text-align: right;\n",
       "    }\n",
       "</style>\n",
       "<table border=\"1\" class=\"dataframe\">\n",
       "  <thead>\n",
       "    <tr style=\"text-align: right;\">\n",
       "      <th></th>\n",
       "      <th>runtime</th>\n",
       "      <th>score</th>\n",
       "      <th>gross</th>\n",
       "    </tr>\n",
       "  </thead>\n",
       "  <tbody>\n",
       "    <tr>\n",
       "      <td>runtime</td>\n",
       "      <td>1.000000</td>\n",
       "      <td>0.395343</td>\n",
       "      <td>0.224579</td>\n",
       "    </tr>\n",
       "    <tr>\n",
       "      <td>score</td>\n",
       "      <td>0.395343</td>\n",
       "      <td>1.000000</td>\n",
       "      <td>0.165693</td>\n",
       "    </tr>\n",
       "    <tr>\n",
       "      <td>gross</td>\n",
       "      <td>0.224579</td>\n",
       "      <td>0.165693</td>\n",
       "      <td>1.000000</td>\n",
       "    </tr>\n",
       "  </tbody>\n",
       "</table>\n",
       "</div>"
      ],
      "text/plain": [
       "          runtime     score     gross\n",
       "runtime  1.000000  0.395343  0.224579\n",
       "score    0.395343  1.000000  0.165693\n",
       "gross    0.224579  0.165693  1.000000"
      ]
     },
     "execution_count": 29,
     "metadata": {},
     "output_type": "execute_result"
    }
   ],
   "source": [
    "df1 = pd.DataFrame(df, columns=['runtime','score', 'gross'])\n",
    "#  correlation matrix\n",
    "df1.corr()\n"
   ]
  },
  {
   "cell_type": "code",
   "execution_count": 30,
   "metadata": {},
   "outputs": [
    {
     "data": {
      "text/plain": [
       "<seaborn.axisgrid.PairGrid at 0x1be5bd4eec8>"
      ]
     },
     "execution_count": 30,
     "metadata": {},
     "output_type": "execute_result"
    },
    {
     "data": {
      "image/png": "[encoded data removed]",
      "text/plain": [
       "<Figure size 540x540 with 12 Axes>"
      ]
     },
     "metadata": {
      "needs_background": "light"
     },
     "output_type": "display_data"
    }
   ],
   "source": [
    "sns.pairplot(df1)"
   ]
  },
  {
   "cell_type": "markdown",
   "metadata": {},
   "source": [
    "### Q.8.a - Categorical Features"
   ]
  },
  {
   "cell_type": "code",
   "execution_count": 31,
   "metadata": {},
   "outputs": [
    {
     "data": {
      "text/plain": [
       "budget      float64\n",
       "company      object\n",
       "country      object\n",
       "director     object\n",
       "genre        object\n",
       "gross         int64\n",
       "name         object\n",
       "rating       object\n",
       "released     object\n",
       "runtime       int64\n",
       "score       float64\n",
       "star         object\n",
       "votes         int64\n",
       "writer       object\n",
       "year          int64\n",
       "dtype: object"
      ]
     },
     "execution_count": 31,
     "metadata": {},
     "output_type": "execute_result"
    }
   ],
   "source": [
    "df.dtypes"
   ]
  },
  {
   "cell_type": "markdown",
   "metadata": {},
   "source": [
    "#### features that cant be used as input: company, country, director, genre, released, writer, star, year. \n",
    "#### Two methods that are dealling with categorical variables: one-hot encode and Ordinal Encoding.\n",
    "#### Create Dummies on Years:"
   ]
  },
  {
   "cell_type": "code",
   "execution_count": 32,
   "metadata": {},
   "outputs": [
    {
     "data": {
      "text/html": [
       "<div>\n",
       "<style scoped>\n",
       "    .dataframe tbody tr th:only-of-type {\n",
       "        vertical-align: middle;\n",
       "    }\n",
       "\n",
       "    .dataframe tbody tr th {\n",
       "        vertical-align: top;\n",
       "    }\n",
       "\n",
       "    .dataframe thead th {\n",
       "        text-align: right;\n",
       "    }\n",
       "</style>\n",
       "<table border=\"1\" class=\"dataframe\">\n",
       "  <thead>\n",
       "    <tr style=\"text-align: right;\">\n",
       "      <th></th>\n",
       "      <th>budget</th>\n",
       "      <th>company</th>\n",
       "      <th>country</th>\n",
       "      <th>director</th>\n",
       "      <th>genre</th>\n",
       "      <th>gross</th>\n",
       "      <th>name</th>\n",
       "      <th>rating</th>\n",
       "      <th>released</th>\n",
       "      <th>runtime</th>\n",
       "      <th>score</th>\n",
       "      <th>star</th>\n",
       "      <th>votes</th>\n",
       "      <th>writer</th>\n",
       "      <th>year</th>\n",
       "      <th>year_dec</th>\n",
       "    </tr>\n",
       "  </thead>\n",
       "  <tbody>\n",
       "    <tr>\n",
       "      <td>0</td>\n",
       "      <td>6000.0</td>\n",
       "      <td>Next Wave Films</td>\n",
       "      <td>UK</td>\n",
       "      <td>Christopher Nolan</td>\n",
       "      <td>Crime</td>\n",
       "      <td>48482</td>\n",
       "      <td>Following</td>\n",
       "      <td>R</td>\n",
       "      <td>11/5/1999</td>\n",
       "      <td>69</td>\n",
       "      <td>7.6</td>\n",
       "      <td>Jeremy Theobald</td>\n",
       "      <td>72113</td>\n",
       "      <td>Christopher Nolan</td>\n",
       "      <td>1998</td>\n",
       "      <td>90's</td>\n",
       "    </tr>\n",
       "    <tr>\n",
       "      <td>1</td>\n",
       "      <td>7000.0</td>\n",
       "      <td>ERBP</td>\n",
       "      <td>USA</td>\n",
       "      <td>Shane Carruth</td>\n",
       "      <td>Drama</td>\n",
       "      <td>424760</td>\n",
       "      <td>Primer</td>\n",
       "      <td>PG-13</td>\n",
       "      <td>5/27/2005</td>\n",
       "      <td>77</td>\n",
       "      <td>6.9</td>\n",
       "      <td>Shane Carruth</td>\n",
       "      <td>81468</td>\n",
       "      <td>Shane Carruth</td>\n",
       "      <td>2004</td>\n",
       "      <td>2000-2010</td>\n",
       "    </tr>\n",
       "    <tr>\n",
       "      <td>2</td>\n",
       "      <td>7000.0</td>\n",
       "      <td>Columbia Pictures Corporation</td>\n",
       "      <td>USA</td>\n",
       "      <td>Robert Rodriguez</td>\n",
       "      <td>Action</td>\n",
       "      <td>2040920</td>\n",
       "      <td>El Mariachi</td>\n",
       "      <td>R</td>\n",
       "      <td>2/26/1993</td>\n",
       "      <td>81</td>\n",
       "      <td>6.9</td>\n",
       "      <td>Carlos Gallardo</td>\n",
       "      <td>55226</td>\n",
       "      <td>Robert Rodriguez</td>\n",
       "      <td>1992</td>\n",
       "      <td>90's</td>\n",
       "    </tr>\n",
       "    <tr>\n",
       "      <td>3</td>\n",
       "      <td>15000.0</td>\n",
       "      <td>Can I Watch</td>\n",
       "      <td>USA</td>\n",
       "      <td>Rose Troche</td>\n",
       "      <td>Drama</td>\n",
       "      <td>2408311</td>\n",
       "      <td>Go Fish</td>\n",
       "      <td>R</td>\n",
       "      <td>7/8/1994</td>\n",
       "      <td>83</td>\n",
       "      <td>5.6</td>\n",
       "      <td>V.S. Brodie</td>\n",
       "      <td>1742</td>\n",
       "      <td>Rose Troche</td>\n",
       "      <td>1994</td>\n",
       "      <td>90's</td>\n",
       "    </tr>\n",
       "    <tr>\n",
       "      <td>4</td>\n",
       "      <td>15000.0</td>\n",
       "      <td>Solana Films</td>\n",
       "      <td>USA</td>\n",
       "      <td>Oren Peli</td>\n",
       "      <td>Horror</td>\n",
       "      <td>107918810</td>\n",
       "      <td>Paranormal Activity</td>\n",
       "      <td>R</td>\n",
       "      <td>10/16/2009</td>\n",
       "      <td>86</td>\n",
       "      <td>6.3</td>\n",
       "      <td>Katie Featherston</td>\n",
       "      <td>195668</td>\n",
       "      <td>Oren Peli</td>\n",
       "      <td>2007</td>\n",
       "      <td>2000-2010</td>\n",
       "    </tr>\n",
       "    <tr>\n",
       "      <td>5</td>\n",
       "      <td>20000.0</td>\n",
       "      <td>Professor Bright Films</td>\n",
       "      <td>USA</td>\n",
       "      <td>Ben Coccio</td>\n",
       "      <td>Drama</td>\n",
       "      <td>7221</td>\n",
       "      <td>Zero Day</td>\n",
       "      <td>UNRATED</td>\n",
       "      <td>1/23/2004</td>\n",
       "      <td>92</td>\n",
       "      <td>7.3</td>\n",
       "      <td>Cal Robertson</td>\n",
       "      <td>3594</td>\n",
       "      <td>Ben Coccio</td>\n",
       "      <td>2003</td>\n",
       "      <td>2000-2010</td>\n",
       "    </tr>\n",
       "    <tr>\n",
       "      <td>6</td>\n",
       "      <td>22769.0</td>\n",
       "      <td>Desperate Pictures</td>\n",
       "      <td>USA</td>\n",
       "      <td>Gregg Araki</td>\n",
       "      <td>Comedy</td>\n",
       "      <td>692585</td>\n",
       "      <td>The Living End</td>\n",
       "      <td>UNRATED</td>\n",
       "      <td>8/21/1992</td>\n",
       "      <td>81</td>\n",
       "      <td>6.5</td>\n",
       "      <td>Mike Dytri</td>\n",
       "      <td>2140</td>\n",
       "      <td>Gregg Araki</td>\n",
       "      <td>1992</td>\n",
       "      <td>90's</td>\n",
       "    </tr>\n",
       "    <tr>\n",
       "      <td>7</td>\n",
       "      <td>23000.0</td>\n",
       "      <td>Detour Filmproduction</td>\n",
       "      <td>USA</td>\n",
       "      <td>Richard Linklater</td>\n",
       "      <td>Comedy</td>\n",
       "      <td>1228108</td>\n",
       "      <td>Slacker</td>\n",
       "      <td>R</td>\n",
       "      <td>7/5/1991</td>\n",
       "      <td>97</td>\n",
       "      <td>7.1</td>\n",
       "      <td>Richard Linklater</td>\n",
       "      <td>16396</td>\n",
       "      <td>Richard Linklater</td>\n",
       "      <td>1991</td>\n",
       "      <td>90's</td>\n",
       "    </tr>\n",
       "    <tr>\n",
       "      <td>8</td>\n",
       "      <td>25000.0</td>\n",
       "      <td>Alliance Atlantis Communications</td>\n",
       "      <td>Canada</td>\n",
       "      <td>Neil LaBute</td>\n",
       "      <td>Comedy</td>\n",
       "      <td>2856622</td>\n",
       "      <td>In the Company of Men</td>\n",
       "      <td>R</td>\n",
       "      <td>8/1/1997</td>\n",
       "      <td>97</td>\n",
       "      <td>7.3</td>\n",
       "      <td>Aaron Eckhart</td>\n",
       "      <td>11992</td>\n",
       "      <td>Neil LaBute</td>\n",
       "      <td>1997</td>\n",
       "      <td>90's</td>\n",
       "    </tr>\n",
       "    <tr>\n",
       "      <td>9</td>\n",
       "      <td>25000.0</td>\n",
       "      <td>Brothers McMullen Productions</td>\n",
       "      <td>USA</td>\n",
       "      <td>Edward Burns</td>\n",
       "      <td>Comedy</td>\n",
       "      <td>10246600</td>\n",
       "      <td>The Brothers McMullen</td>\n",
       "      <td>R</td>\n",
       "      <td>8/9/1995</td>\n",
       "      <td>98</td>\n",
       "      <td>6.6</td>\n",
       "      <td>Jack Mulcahy</td>\n",
       "      <td>6598</td>\n",
       "      <td>Edward Burns</td>\n",
       "      <td>1995</td>\n",
       "      <td>90's</td>\n",
       "    </tr>\n",
       "  </tbody>\n",
       "</table>\n",
       "</div>"
      ],
      "text/plain": [
       "    budget                           company country           director  \\\n",
       "0   6000.0                   Next Wave Films      UK  Christopher Nolan   \n",
       "1   7000.0                              ERBP     USA      Shane Carruth   \n",
       "2   7000.0     Columbia Pictures Corporation     USA   Robert Rodriguez   \n",
       "3  15000.0                       Can I Watch     USA        Rose Troche   \n",
       "4  15000.0                      Solana Films     USA          Oren Peli   \n",
       "5  20000.0            Professor Bright Films     USA         Ben Coccio   \n",
       "6  22769.0                Desperate Pictures     USA        Gregg Araki   \n",
       "7  23000.0             Detour Filmproduction     USA  Richard Linklater   \n",
       "8  25000.0  Alliance Atlantis Communications  Canada        Neil LaBute   \n",
       "9  25000.0     Brothers McMullen Productions     USA       Edward Burns   \n",
       "\n",
       "    genre      gross                   name   rating    released  runtime  \\\n",
       "0   Crime      48482              Following        R   11/5/1999       69   \n",
       "1   Drama     424760                 Primer    PG-13   5/27/2005       77   \n",
       "2  Action    2040920            El Mariachi        R   2/26/1993       81   \n",
       "3   Drama    2408311                Go Fish        R    7/8/1994       83   \n",
       "4  Horror  107918810    Paranormal Activity        R  10/16/2009       86   \n",
       "5   Drama       7221               Zero Day  UNRATED   1/23/2004       92   \n",
       "6  Comedy     692585         The Living End  UNRATED   8/21/1992       81   \n",
       "7  Comedy    1228108                Slacker        R    7/5/1991       97   \n",
       "8  Comedy    2856622  In the Company of Men        R    8/1/1997       97   \n",
       "9  Comedy   10246600  The Brothers McMullen        R    8/9/1995       98   \n",
       "\n",
       "   score               star   votes             writer  year   year_dec  \n",
       "0    7.6    Jeremy Theobald   72113  Christopher Nolan  1998       90's  \n",
       "1    6.9      Shane Carruth   81468      Shane Carruth  2004  2000-2010  \n",
       "2    6.9    Carlos Gallardo   55226   Robert Rodriguez  1992       90's  \n",
       "3    5.6        V.S. Brodie    1742        Rose Troche  1994       90's  \n",
       "4    6.3  Katie Featherston  195668          Oren Peli  2007  2000-2010  \n",
       "5    7.3      Cal Robertson    3594         Ben Coccio  2003  2000-2010  \n",
       "6    6.5         Mike Dytri    2140        Gregg Araki  1992       90's  \n",
       "7    7.1  Richard Linklater   16396  Richard Linklater  1991       90's  \n",
       "8    7.3      Aaron Eckhart   11992        Neil LaBute  1997       90's  \n",
       "9    6.6       Jack Mulcahy    6598       Edward Burns  1995       90's  "
      ]
     },
     "execution_count": 32,
     "metadata": {},
     "output_type": "execute_result"
    }
   ],
   "source": [
    "from sklearn import preprocessing\n",
    "\n",
    "bins = [1986, 1990, 2000, 2010, 2020]\n",
    "group_names = [\"80's\", \"90's\", \"2000-2010\", \"2010-2020\"]\n",
    "df['year_dec']=pd.cut(df['year'], bins,labels= group_names)\n",
    "df.head(n=10)"
   ]
  },
  {
   "cell_type": "markdown",
   "metadata": {},
   "source": [
    "### Q.8.b Standardization"
   ]
  },
  {
   "cell_type": "code",
   "execution_count": 33,
   "metadata": {},
   "outputs": [
    {
     "name": "stdout",
     "output_type": "stream",
     "text": [
      "Mean:  71219.52258064516 Std:  130517.63080661323\n"
     ]
    }
   ],
   "source": [
    "x = df['votes']\n",
    "print(\"Mean: \",  x.mean(), \"Std: \", x.std())"
   ]
  },
  {
   "cell_type": "code",
   "execution_count": 34,
   "metadata": {},
   "outputs": [
    {
     "data": {
      "text/html": [
       "<div>\n",
       "<style scoped>\n",
       "    .dataframe tbody tr th:only-of-type {\n",
       "        vertical-align: middle;\n",
       "    }\n",
       "\n",
       "    .dataframe tbody tr th {\n",
       "        vertical-align: top;\n",
       "    }\n",
       "\n",
       "    .dataframe thead th {\n",
       "        text-align: right;\n",
       "    }\n",
       "</style>\n",
       "<table border=\"1\" class=\"dataframe\">\n",
       "  <thead>\n",
       "    <tr style=\"text-align: right;\">\n",
       "      <th></th>\n",
       "      <th>budget</th>\n",
       "      <th>company</th>\n",
       "      <th>country</th>\n",
       "      <th>director</th>\n",
       "      <th>genre</th>\n",
       "      <th>gross</th>\n",
       "      <th>name</th>\n",
       "      <th>rating</th>\n",
       "      <th>released</th>\n",
       "      <th>runtime</th>\n",
       "      <th>score</th>\n",
       "      <th>star</th>\n",
       "      <th>votes</th>\n",
       "      <th>writer</th>\n",
       "      <th>year</th>\n",
       "      <th>year_dec</th>\n",
       "      <th>votes_standart</th>\n",
       "    </tr>\n",
       "  </thead>\n",
       "  <tbody>\n",
       "    <tr>\n",
       "      <td>0</td>\n",
       "      <td>6000.0</td>\n",
       "      <td>Next Wave Films</td>\n",
       "      <td>UK</td>\n",
       "      <td>Christopher Nolan</td>\n",
       "      <td>Crime</td>\n",
       "      <td>48482</td>\n",
       "      <td>Following</td>\n",
       "      <td>R</td>\n",
       "      <td>11/5/1999</td>\n",
       "      <td>69</td>\n",
       "      <td>7.6</td>\n",
       "      <td>Jeremy Theobald</td>\n",
       "      <td>72113</td>\n",
       "      <td>Christopher Nolan</td>\n",
       "      <td>1998</td>\n",
       "      <td>90's</td>\n",
       "      <td>0.006846</td>\n",
       "    </tr>\n",
       "    <tr>\n",
       "      <td>1</td>\n",
       "      <td>7000.0</td>\n",
       "      <td>ERBP</td>\n",
       "      <td>USA</td>\n",
       "      <td>Shane Carruth</td>\n",
       "      <td>Drama</td>\n",
       "      <td>424760</td>\n",
       "      <td>Primer</td>\n",
       "      <td>PG-13</td>\n",
       "      <td>5/27/2005</td>\n",
       "      <td>77</td>\n",
       "      <td>6.9</td>\n",
       "      <td>Shane Carruth</td>\n",
       "      <td>81468</td>\n",
       "      <td>Shane Carruth</td>\n",
       "      <td>2004</td>\n",
       "      <td>2000-2010</td>\n",
       "      <td>0.078528</td>\n",
       "    </tr>\n",
       "    <tr>\n",
       "      <td>2</td>\n",
       "      <td>7000.0</td>\n",
       "      <td>Columbia Pictures Corporation</td>\n",
       "      <td>USA</td>\n",
       "      <td>Robert Rodriguez</td>\n",
       "      <td>Action</td>\n",
       "      <td>2040920</td>\n",
       "      <td>El Mariachi</td>\n",
       "      <td>R</td>\n",
       "      <td>2/26/1993</td>\n",
       "      <td>81</td>\n",
       "      <td>6.9</td>\n",
       "      <td>Carlos Gallardo</td>\n",
       "      <td>55226</td>\n",
       "      <td>Robert Rodriguez</td>\n",
       "      <td>1992</td>\n",
       "      <td>90's</td>\n",
       "      <td>-0.122548</td>\n",
       "    </tr>\n",
       "    <tr>\n",
       "      <td>3</td>\n",
       "      <td>15000.0</td>\n",
       "      <td>Can I Watch</td>\n",
       "      <td>USA</td>\n",
       "      <td>Rose Troche</td>\n",
       "      <td>Drama</td>\n",
       "      <td>2408311</td>\n",
       "      <td>Go Fish</td>\n",
       "      <td>R</td>\n",
       "      <td>7/8/1994</td>\n",
       "      <td>83</td>\n",
       "      <td>5.6</td>\n",
       "      <td>V.S. Brodie</td>\n",
       "      <td>1742</td>\n",
       "      <td>Rose Troche</td>\n",
       "      <td>1994</td>\n",
       "      <td>90's</td>\n",
       "      <td>-0.532362</td>\n",
       "    </tr>\n",
       "    <tr>\n",
       "      <td>4</td>\n",
       "      <td>15000.0</td>\n",
       "      <td>Solana Films</td>\n",
       "      <td>USA</td>\n",
       "      <td>Oren Peli</td>\n",
       "      <td>Horror</td>\n",
       "      <td>107918810</td>\n",
       "      <td>Paranormal Activity</td>\n",
       "      <td>R</td>\n",
       "      <td>10/16/2009</td>\n",
       "      <td>86</td>\n",
       "      <td>6.3</td>\n",
       "      <td>Katie Featherston</td>\n",
       "      <td>195668</td>\n",
       "      <td>Oren Peli</td>\n",
       "      <td>2007</td>\n",
       "      <td>2000-2010</td>\n",
       "      <td>0.953569</td>\n",
       "    </tr>\n",
       "  </tbody>\n",
       "</table>\n",
       "</div>"
      ],
      "text/plain": [
       "    budget                        company country           director   genre  \\\n",
       "0   6000.0                Next Wave Films      UK  Christopher Nolan   Crime   \n",
       "1   7000.0                           ERBP     USA      Shane Carruth   Drama   \n",
       "2   7000.0  Columbia Pictures Corporation     USA   Robert Rodriguez  Action   \n",
       "3  15000.0                    Can I Watch     USA        Rose Troche   Drama   \n",
       "4  15000.0                   Solana Films     USA          Oren Peli  Horror   \n",
       "\n",
       "       gross                 name rating    released  runtime  score  \\\n",
       "0      48482            Following      R   11/5/1999       69    7.6   \n",
       "1     424760               Primer  PG-13   5/27/2005       77    6.9   \n",
       "2    2040920          El Mariachi      R   2/26/1993       81    6.9   \n",
       "3    2408311              Go Fish      R    7/8/1994       83    5.6   \n",
       "4  107918810  Paranormal Activity      R  10/16/2009       86    6.3   \n",
       "\n",
       "                star   votes             writer  year   year_dec  \\\n",
       "0    Jeremy Theobald   72113  Christopher Nolan  1998       90's   \n",
       "1      Shane Carruth   81468      Shane Carruth  2004  2000-2010   \n",
       "2    Carlos Gallardo   55226   Robert Rodriguez  1992       90's   \n",
       "3        V.S. Brodie    1742        Rose Troche  1994       90's   \n",
       "4  Katie Featherston  195668          Oren Peli  2007  2000-2010   \n",
       "\n",
       "   votes_standart  \n",
       "0        0.006846  \n",
       "1        0.078528  \n",
       "2       -0.122548  \n",
       "3       -0.532362  \n",
       "4        0.953569  "
      ]
     },
     "execution_count": 34,
     "metadata": {},
     "output_type": "execute_result"
    }
   ],
   "source": [
    "factor=((len(x)-1)/(len(x)))**0.5\n",
    "factor\n",
    "standardized = (x-x.mean())/(x.std()*factor)\n",
    "df['votes_standart'] = pd.Series(standardized, index=df.index)\n",
    "df.head()"
   ]
  },
  {
   "cell_type": "code",
   "execution_count": 35,
   "metadata": {},
   "outputs": [
    {
     "data": {
      "text/plain": [
       "count    6.820000e+03\n",
       "mean     8.627833e-19\n",
       "std      1.000073e+00\n",
       "min     -5.455029e-01\n",
       "25%     -4.869758e-01\n",
       "50%     -3.473121e-01\n",
       "75%      3.519114e-02\n",
       "max      1.371905e+01\n",
       "Name: votes_standart, dtype: float64"
      ]
     },
     "execution_count": 35,
     "metadata": {},
     "output_type": "execute_result"
    }
   ],
   "source": [
    "df['votes_standart'].describe()"
   ]
  },
  {
   "cell_type": "markdown",
   "metadata": {},
   "source": [
    "### Handling Missing Data - dropna(), fillna()"
   ]
  },
  {
   "cell_type": "markdown",
   "metadata": {},
   "source": [
    "### Q.9"
   ]
  },
  {
   "cell_type": "code",
   "execution_count": 36,
   "metadata": {},
   "outputs": [
    {
     "data": {
      "text/plain": [
       "budget            2182\n",
       "company              0\n",
       "country              0\n",
       "director             0\n",
       "genre                0\n",
       "gross                0\n",
       "name                 0\n",
       "rating               0\n",
       "released             0\n",
       "runtime              0\n",
       "score                0\n",
       "star                 0\n",
       "votes                0\n",
       "writer               0\n",
       "year                 0\n",
       "year_dec           220\n",
       "votes_standart       0\n",
       "dtype: int64"
      ]
     },
     "execution_count": 36,
     "metadata": {},
     "output_type": "execute_result"
    }
   ],
   "source": [
    "df.isna().sum()"
   ]
  },
  {
   "cell_type": "markdown",
   "metadata": {},
   "source": [
    "### 2182 rows missing at budget column and 220 at year column"
   ]
  },
  {
   "cell_type": "markdown",
   "metadata": {},
   "source": [
    "### Q.10.1\n",
    "### if we want reliable result at reggretion, all rows must be none zero values."
   ]
  },
  {
   "cell_type": "markdown",
   "metadata": {},
   "source": [
    "### Q.10.2 Q.10.3 - remove null:\n"
   ]
  },
  {
   "cell_type": "code",
   "execution_count": 37,
   "metadata": {},
   "outputs": [
    {
     "data": {
      "text/plain": [
       "budget            0\n",
       "company           0\n",
       "country           0\n",
       "director          0\n",
       "genre             0\n",
       "gross             0\n",
       "name              0\n",
       "rating            0\n",
       "released          0\n",
       "runtime           0\n",
       "score             0\n",
       "star              0\n",
       "votes             0\n",
       "writer            0\n",
       "year              0\n",
       "year_dec          0\n",
       "votes_standart    0\n",
       "dtype: int64"
      ]
     },
     "execution_count": 37,
     "metadata": {},
     "output_type": "execute_result"
    }
   ],
   "source": [
    "df_no_missing=df.dropna()\n",
    "df_no_missing.isna().sum()"
   ]
  },
  {
   "cell_type": "markdown",
   "metadata": {},
   "source": [
    "### Q.11 - Deleting Missing data\n",
    "#### props: we get more relaible result from the anlysis\n",
    "#### cons: we loose data that can help us understand about other target\n",
    "#### We can fill the missing value in the mean of the column."
   ]
  },
  {
   "cell_type": "markdown",
   "metadata": {},
   "source": []
  }
 ],
 "metadata": {
  "kernelspec": {
   "display_name": "Python 3",
   "language": "python",
   "name": "python3"
  },
  "language_info": {
   "codemirror_mode": {
    "name": "ipython",
    "version": 3
   },
   "file_extension": ".py",
   "mimetype": "text/x-python",
   "name": "python",
   "nbconvert_exporter": "python",
   "pygments_lexer": "ipython3",
   "version": "3.7.4"
  }
 },
 "nbformat": 4,
 "nbformat_minor": 2
}
